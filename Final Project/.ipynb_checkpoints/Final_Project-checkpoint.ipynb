{
 "cells": [
  {
   "cell_type": "code",
   "execution_count": 8,
   "metadata": {},
   "outputs": [
    {
     "name": "stdout",
     "output_type": "stream",
     "text": [
      "Populating the interactive namespace from numpy and matplotlib\n"
     ]
    }
   ],
   "source": [
    "from pandas import Series, DataFrame\n",
    "import pandas as pd\n",
    "from patsy import dmatrices\n",
    "%pylab inline\n",
    "\n",
    "# We will ignore some silly warnings that pop up due to scikit-learn\n",
    "import warnings\n",
    "warnings.filterwarnings('ignore')"
   ]
  },
  {
   "cell_type": "markdown",
   "metadata": {},
   "source": [
    "# Adoption Data"
   ]
  },
  {
   "cell_type": "code",
   "execution_count": 87,
   "metadata": {
    "scrolled": true
   },
   "outputs": [
    {
     "data": {
      "text/plain": [
       "Domestic Shorthair Mix                23423\n",
       "other                                 13082\n",
       "Pit Bull Mix                           6256\n",
       "Chihuahua Shorthair Mix                4831\n",
       "Labrador Retriever Mix                 4789\n",
       "Domestic Medium Hair Mix               2326\n",
       "German Shepherd Mix                    1950\n",
       "Bat Mix                                1381\n",
       "Domestic Longhair Mix                  1248\n",
       "Australian Cattle Dog Mix              1099\n",
       "Siamese Mix                             996\n",
       "Bat                                     827\n",
       "Dachshund Mix                           811\n",
       "Boxer Mix                               683\n",
       "Miniature Poodle Mix                    662\n",
       "Border Collie Mix                       662\n",
       "Catahoula Mix                           480\n",
       "Raccoon Mix                             471\n",
       "Rat Terrier Mix                         469\n",
       "Australian Shepherd Mix                 468\n",
       "Yorkshire Terrier Mix                   447\n",
       "Siberian Husky Mix                      441\n",
       "Jack Russell Terrier Mix                429\n",
       "Miniature Schnauzer Mix                 402\n",
       "Beagle Mix                              392\n",
       "Domestic Shorthair                      387\n",
       "Staffordshire Mix                       375\n",
       "Chihuahua Longhair Mix                  371\n",
       "Great Pyrenees Mix                      349\n",
       "Cairn Terrier Mix                       348\n",
       "                                      ...  \n",
       "German Shepherd/Labrador Retriever      160\n",
       "Golden Retriever Mix                    157\n",
       "Miniature Pinscher Mix                  156\n",
       "Maltese Mix                             155\n",
       "Queensland Heeler Mix                   150\n",
       "Chow Chow Mix                           146\n",
       "Snowshoe Mix                            146\n",
       "Labrador Retriever/German Shepherd      140\n",
       "Domestic Medium Hair                    132\n",
       "Basset Hound Mix                        127\n",
       "Border Terrier Mix                      125\n",
       "Pug Mix                                 125\n",
       "Doberman Pinsch Mix                     123\n",
       "Pomeranian Mix                          122\n",
       "Siberian Husky                          115\n",
       "Shih Tzu                                114\n",
       "Chicken Mix                             114\n",
       "Blue Lacy Mix                           114\n",
       "Guinea Pig Mix                          111\n",
       "Cardigan Welsh Corgi Mix                110\n",
       "Cocker Spaniel Mix                      108\n",
       "Lhasa Apso Mix                          108\n",
       "Pit Bull/Labrador Retriever             106\n",
       "Toy Poodle Mix                          105\n",
       "Rottweiler                              105\n",
       "Maine Coon Mix                          104\n",
       "Boston Terrier Mix                      104\n",
       "Opossum                                 104\n",
       "Dachshund                               102\n",
       "Manchester Terrier Mix                  101\n",
       "Name: breed_bin, Length: 81, dtype: int64"
      ]
     },
     "execution_count": 87,
     "metadata": {},
     "output_type": "execute_result"
    }
   ],
   "source": [
    "df = pd.read_csv('aac_intakes_outcomes.csv')\n",
    "\n",
    "\n",
    "#Seperate the age into more reasonable buckets\n",
    "def seperation(x):\n",
    "    y = x.split(' ')\n",
    "    return (y[0])\n",
    "df['just_age'] = df['age_upon_outcome'].apply(seperation)\n",
    "\n",
    "#Now seperate the breed into bins based off frequency, arbitrarily set threshold at 100\n",
    "num = df['breed'].value_counts()>100\n",
    "a = df['breed'].value_counts()[num].index.tolist()\n",
    "df['breed_bin'] = 'other'\n",
    "def breedtest(x):\n",
    "    if x in a:\n",
    "        return x\n",
    "    return 'other'\n",
    "df['breed_bin'] = df['breed'].apply(breedtest)\n",
    "df['breed_bin'].value_counts()\n",
    "\n",
    "#Get breeds and colors where the count is greater than 100, more relevant I guess this way\n"
   ]
  },
  {
   "cell_type": "code",
   "execution_count": 88,
   "metadata": {},
   "outputs": [
    {
     "data": {
      "text/plain": [
       "(1.0, 2.0]       19226\n",
       "(-0.001, 1.0]    16723\n",
       "(5.0, 25.0]      11168\n",
       "(3.0, 5.0]        9187\n",
       "(2.0, 3.0]        8577\n",
       "Name: age_bucket, dtype: int64"
      ]
     },
     "execution_count": 88,
     "metadata": {},
     "output_type": "execute_result"
    }
   ],
   "source": [
    "# Setting up regressions using naive-bayes\n",
    "\n",
    "# Should we filter out return to owner? seems logical because we want to look at actual strays, not ones that just got lost for a few days\n",
    "\n",
    "mask = (df['outcome_type'] != 'Return to Owner')\n",
    "df1 = df[mask]\n",
    "#df1['outcome_type'].value_counts()\n",
    "\n",
    "# df1 now excludes all pets that were returned to owner, future analysis may include ones that were returned \n",
    "# after an extended period of time, for now it will only include long-term strays\n",
    "df1['target_adopt'] = 0\n",
    "mask = (df1['outcome_type']=='Adoption')\n",
    "df1['target_adopt'][mask] = 1.0\n",
    "#df1['target_adopt'].value_counts()\n",
    "\n",
    "#Important to use categorical, most factors seem categorical except time in shelter (days), will qcut\n",
    "df1['time_spent_shelter']= pd.qcut(df['time_in_shelter_days'],5)\n",
    "#df1['time_spent_shelter'].value_counts()\n",
    "\n",
    "#df1['DOB_bucket']= pd.qcut(df1['date_of_birth'],5)\n",
    "df1['DOB_DT'] = pd.to_datetime(df['date_of_birth'])\n",
    "#df1['DOB_DT'][:5]\n",
    "df1['DOB_bucket'] = pd.qcut(df1['DOB_DT'],5)\n",
    "#df1['DOB_bucket'].value_counts()\n",
    "\n",
    "df1['age_upon_outcome_numeric']= pd.to_numeric(df1['just_age'])\n",
    "df1['age_bucket'] = pd.qcut(df1['age_upon_outcome_numeric'],5)\n",
    "df1['age_bucket'].value_counts()"
   ]
  },
  {
   "cell_type": "code",
   "execution_count": 89,
   "metadata": {},
   "outputs": [
    {
     "name": "stdout",
     "output_type": "stream",
     "text": [
      "['age_upon_outcome' 'animal_id_outcome' 'date_of_birth' 'outcome_subtype'\n",
      " 'outcome_type' 'sex_upon_outcome' 'age_upon_outcome_(days)'\n",
      " 'age_upon_outcome_(years)' 'age_upon_outcome_age_group' 'outcome_datetime'\n",
      " 'outcome_month' 'outcome_year' 'outcome_monthyear' 'outcome_weekday'\n",
      " 'outcome_hour' 'outcome_number' 'dob_year' 'dob_month' 'dob_monthyear'\n",
      " 'age_upon_intake' 'animal_id_intake' 'animal_type' 'breed' 'color'\n",
      " 'found_location' 'intake_condition' 'intake_type' 'sex_upon_intake'\n",
      " 'count' 'age_upon_intake_(days)' 'age_upon_intake_(years)'\n",
      " 'age_upon_intake_age_group' 'intake_datetime' 'intake_month' 'intake_year'\n",
      " 'intake_monthyear' 'intake_weekday' 'intake_hour' 'intake_number'\n",
      " 'time_in_shelter' 'time_in_shelter_days' 'just_age' 'breed_bin'\n",
      " 'target_adopt' 'time_spent_shelter' 'DOB_DT' 'DOB_bucket'\n",
      " 'age_upon_outcome_numeric' 'age_bucket']\n"
     ]
    }
   ],
   "source": [
    "print df1.columns.values\n",
    "\n",
    "#Going to use age_upon_outcome, date_of_birth, outcome_type, sex_upon_outocome, outcome_monthyear, outcome_weekday, outcome_hour, animal_type\n",
    "#breed,color, intake_coundition, time_in_shelter_days"
   ]
  },
  {
   "cell_type": "code",
   "execution_count": 90,
   "metadata": {},
   "outputs": [
    {
     "data": {
      "text/plain": [
       "array(['age_bucket_(-0.001, 1.0]', 'age_bucket_(1.0, 2.0]',\n",
       "       'age_bucket_(2.0, 3.0]', 'age_bucket_(3.0, 5.0]',\n",
       "       'age_bucket_(5.0, 25.0]',\n",
       "       'DOB_bucket_(1991-12-10 23:59:59.999999999, 2012-10-24]',\n",
       "       'DOB_bucket_(2012-10-24, 2014-04-03]',\n",
       "       'DOB_bucket_(2014-04-03, 2015-04-18]',\n",
       "       'DOB_bucket_(2015-04-18, 2016-04-24]',\n",
       "       'DOB_bucket_(2016-04-24, 2018-03-25]'], dtype=object)"
      ]
     },
     "execution_count": 90,
     "metadata": {},
     "output_type": "execute_result"
    }
   ],
   "source": [
    "#For simplification, ignoring breed and color for now\n",
    "categorical_columns = ['age_bucket','DOB_bucket','sex_upon_outcome','animal_type',\n",
    "                       'intake_condition','time_spent_shelter','breed_bin']\n",
    "df_dummies = pd.get_dummies(df1[categorical_columns],\n",
    "                            prefix=categorical_columns,\n",
    "                            columns=categorical_columns)\n",
    "dummy_column_names = df_dummies.columns.values\n",
    "dummy_column_names[:10]\n"
   ]
  },
  {
   "cell_type": "code",
   "execution_count": 91,
   "metadata": {},
   "outputs": [
    {
     "name": "stdout",
     "output_type": "stream",
     "text": [
      "target_adopt ~ 0 + Q(\"age_bucket_(-0.001, 1.0]\") + Q(\"age_bucket_(1.0, 2.0]\") + Q(\"age_bucket_(2.0, 3.0]\") + Q(\"age_bucket_(3.0, 5.0]\") + Q(\"age_bucket_(5.0, 25.0]\") + Q(\"DOB_bucket_(1991-12-10 23:59:59.999999999, 2012-10-24]\") + Q(\"DOB_bucket_(2012-10-24, 2014-04-03]\") + Q(\"DOB_bucket_(2014-04-03, 2015-04-18]\") + Q(\"DOB_bucket_(2015-04-18, 2016-04-24]\") + Q(\"DOB_bucket_(2016-04-24, 2018-03-25]\") + Q(\"sex_upon_outcome_Intact Female\") + Q(\"sex_upon_outcome_Intact Male\") + Q(\"sex_upon_outcome_Neutered Male\") + Q(\"sex_upon_outcome_Spayed Female\") + Q(\"sex_upon_outcome_Unknown\") + Q(\"animal_type_Bird\") + Q(\"animal_type_Cat\") + Q(\"animal_type_Dog\") + Q(\"animal_type_Other\") + Q(\"intake_condition_Aged\") + Q(\"intake_condition_Feral\") + Q(\"intake_condition_Injured\") + Q(\"intake_condition_Normal\") + Q(\"intake_condition_Nursing\") + Q(\"intake_condition_Other\") + Q(\"intake_condition_Pregnant\") + Q(\"intake_condition_Sick\") + Q(\"time_spent_shelter_(-0.001, 0.844]\") + Q(\"time_spent_shelter_(0.844, 4.004]\") + Q(\"time_spent_shelter_(4.004, 6.945]\") + Q(\"time_spent_shelter_(6.945, 19.969]\") + Q(\"time_spent_shelter_(19.969, 1606.194]\") + Q(\"breed_bin_American Bulldog Mix\") + Q(\"breed_bin_American Pit Bull Terrier Mix\") + Q(\"breed_bin_American Shorthair Mix\") + Q(\"breed_bin_American Staffordshire Terrier Mix\") + Q(\"breed_bin_Anatol Shepherd Mix\") + Q(\"breed_bin_Australian Cattle Dog Mix\") + Q(\"breed_bin_Australian Kelpie Mix\") + Q(\"breed_bin_Australian Shepherd Mix\") + Q(\"breed_bin_Basset Hound Mix\") + Q(\"breed_bin_Bat\") + Q(\"breed_bin_Bat Mix\") + Q(\"breed_bin_Beagle Mix\") + Q(\"breed_bin_Black Mouth Cur Mix\") + Q(\"breed_bin_Blue Lacy Mix\") + Q(\"breed_bin_Border Collie Mix\") + Q(\"breed_bin_Border Terrier Mix\") + Q(\"breed_bin_Boston Terrier Mix\") + Q(\"breed_bin_Boxer Mix\") + Q(\"breed_bin_Cairn Terrier Mix\") + Q(\"breed_bin_Cardigan Welsh Corgi Mix\") + Q(\"breed_bin_Catahoula Mix\") + Q(\"breed_bin_Chicken Mix\") + Q(\"breed_bin_Chihuahua Longhair Mix\") + Q(\"breed_bin_Chihuahua Shorthair\") + Q(\"breed_bin_Chihuahua Shorthair Mix\") + Q(\"breed_bin_Chihuahua Shorthair/Dachshund\") + Q(\"breed_bin_Chow Chow Mix\") + Q(\"breed_bin_Cocker Spaniel Mix\") + Q(\"breed_bin_Dachshund\") + Q(\"breed_bin_Dachshund Mix\") + Q(\"breed_bin_Dachshund/Chihuahua Shorthair\") + Q(\"breed_bin_Doberman Pinsch Mix\") + Q(\"breed_bin_Domestic Longhair Mix\") + Q(\"breed_bin_Domestic Medium Hair\") + Q(\"breed_bin_Domestic Medium Hair Mix\") + Q(\"breed_bin_Domestic Shorthair\") + Q(\"breed_bin_Domestic Shorthair Mix\") + Q(\"breed_bin_German Shepherd\") + Q(\"breed_bin_German Shepherd Mix\") + Q(\"breed_bin_German Shepherd/Labrador Retriever\") + Q(\"breed_bin_Golden Retriever Mix\") + Q(\"breed_bin_Great Pyrenees Mix\") + Q(\"breed_bin_Guinea Pig Mix\") + Q(\"breed_bin_Jack Russell Terrier Mix\") + Q(\"breed_bin_Labrador Retriever\") + Q(\"breed_bin_Labrador Retriever Mix\") + Q(\"breed_bin_Labrador Retriever/German Shepherd\") + Q(\"breed_bin_Labrador Retriever/Pit Bull\") + Q(\"breed_bin_Lhasa Apso Mix\") + Q(\"breed_bin_Maine Coon Mix\") + Q(\"breed_bin_Maltese Mix\") + Q(\"breed_bin_Manchester Terrier Mix\") + Q(\"breed_bin_Miniature Pinscher Mix\") + Q(\"breed_bin_Miniature Poodle Mix\") + Q(\"breed_bin_Miniature Schnauzer Mix\") + Q(\"breed_bin_Opossum\") + Q(\"breed_bin_Opossum Mix\") + Q(\"breed_bin_Pit Bull\") + Q(\"breed_bin_Pit Bull Mix\") + Q(\"breed_bin_Pit Bull/Labrador Retriever\") + Q(\"breed_bin_Plott Hound Mix\") + Q(\"breed_bin_Pointer Mix\") + Q(\"breed_bin_Pomeranian Mix\") + Q(\"breed_bin_Pug Mix\") + Q(\"breed_bin_Queensland Heeler Mix\") + Q(\"breed_bin_Rabbit Sh Mix\") + Q(\"breed_bin_Raccoon\") + Q(\"breed_bin_Raccoon Mix\") + Q(\"breed_bin_Rat Terrier Mix\") + Q(\"breed_bin_Rottweiler\") + Q(\"breed_bin_Rottweiler Mix\") + Q(\"breed_bin_Shih Tzu\") + Q(\"breed_bin_Shih Tzu Mix\") + Q(\"breed_bin_Siamese Mix\") + Q(\"breed_bin_Siberian Husky\") + Q(\"breed_bin_Siberian Husky Mix\") + Q(\"breed_bin_Snowshoe Mix\") + Q(\"breed_bin_Staffordshire Mix\") + Q(\"breed_bin_Toy Poodle Mix\") + Q(\"breed_bin_Yorkshire Terrier Mix\") + Q(\"breed_bin_other\")\n"
     ]
    }
   ],
   "source": [
    "#Concatanate the columns and throw them together, then format\n",
    "df2 = pd.concat([df1, df_dummies], axis=1)\n",
    "formula = 'target_adopt ~ 0 + {}'.format(' + '.join(['Q(\"{}\")'.format(x) for x in dummy_column_names]))\n",
    "print formula"
   ]
  },
  {
   "cell_type": "code",
   "execution_count": 92,
   "metadata": {},
   "outputs": [
    {
     "data": {
      "text/plain": [
       "array([ 0.,  0.,  1.,  0.,  1.,  0.,  0.,  0.,  0.,  1.])"
      ]
     },
     "execution_count": 92,
     "metadata": {},
     "output_type": "execute_result"
    }
   ],
   "source": [
    "#Make the matrix\n",
    "Y, X = dmatrices(formula, df2, return_type='dataframe')\n",
    "y = Y['target_adopt'].values\n",
    "y[:10]"
   ]
  },
  {
   "cell_type": "code",
   "execution_count": 93,
   "metadata": {},
   "outputs": [
    {
     "data": {
      "text/plain": [
       "MultinomialNB(alpha=1.0, class_prior=None, fit_prior=True)"
      ]
     },
     "execution_count": 93,
     "metadata": {},
     "output_type": "execute_result"
    }
   ],
   "source": [
    "from sklearn import naive_bayes\n",
    "model = naive_bayes.MultinomialNB()\n",
    "model.fit(X,y)"
   ]
  },
  {
   "cell_type": "code",
   "execution_count": 94,
   "metadata": {},
   "outputs": [
    {
     "name": "stdout",
     "output_type": "stream",
     "text": [
      "Prediction\n",
      "[ 1.  1.  1.  0.  1.  0.  0.  0.  1.  1.]\n",
      "Actual\n",
      "[ 0.  0.  1.  0.  1.  0.  0.  0.  0.  1.]\n"
     ]
    }
   ],
   "source": [
    "print 'Prediction'\n",
    "print model.predict(X[:10])\n",
    "print 'Actual'\n",
    "print y[:10]"
   ]
  },
  {
   "cell_type": "code",
   "execution_count": 95,
   "metadata": {},
   "outputs": [
    {
     "name": "stdout",
     "output_type": "stream",
     "text": [
      "0.822505818344\n"
     ]
    }
   ],
   "source": [
    "from sklearn import metrics\n",
    "prediction_train = model.predict(X)\n",
    "print metrics.accuracy_score(y, prediction_train)"
   ]
  },
  {
   "cell_type": "code",
   "execution_count": 96,
   "metadata": {},
   "outputs": [
    {
     "name": "stdout",
     "output_type": "stream",
     "text": [
      "Prior probability for the negative class is 0.482221297452\n",
      "Prior probability for the positive class is 0.517778702548\n"
     ]
    }
   ],
   "source": [
    "print 'Prior probability for the negative class is',\n",
    "print exp(model.class_log_prior_[0])\n",
    "print 'Prior probability for the positive class is',\n",
    "print exp(model.class_log_prior_[1])"
   ]
  },
  {
   "cell_type": "code",
   "execution_count": 97,
   "metadata": {},
   "outputs": [
    {
     "data": {
      "text/plain": [
       "Q(\"breed_bin_Bat Mix\")                    -7.302396\n",
       "Q(\"breed_bin_Bat\")                        -6.790123\n",
       "Q(\"breed_bin_Raccoon Mix\")                -6.228088\n",
       "Q(\"breed_bin_Raccoon\")                    -5.534941\n",
       "Q(\"breed_bin_Opossum Mix\")                -5.264066\n",
       "Q(\"breed_bin_Opossum\")                    -4.725070\n",
       "Q(\"sex_upon_outcome_Unknown\")             -4.623029\n",
       "Q(\"time_spent_shelter_(-0.001, 0.844]\")   -3.479858\n",
       "Q(\"animal_type_Other\")                    -2.994655\n",
       "Q(\"breed_bin_Guinea Pig Mix\")             -2.952179\n",
       "dtype: float64"
      ]
     },
     "execution_count": 97,
     "metadata": {},
     "output_type": "execute_result"
    }
   ],
   "source": [
    "feature_importances = abs(model.feature_log_prob_[1] - model.feature_log_prob_[0])\n",
    "feature_importance_series = Series(feature_importances, index=X.columns.values)\n",
    "top_10_feature_indices = feature_importance_series.sort_values(ascending=False)[:10].index.values\n",
    "inter_class_differences = model.feature_log_prob_[1] - model.feature_log_prob_[0]\n",
    "new_feature_importance_series = Series(inter_class_differences, index=X.columns.values)\n",
    "\n",
    "new_feature_importance_series[top_10_feature_indices]\n"
   ]
  },
  {
   "cell_type": "code",
   "execution_count": null,
   "metadata": {
    "collapsed": true
   },
   "outputs": [],
   "source": []
  }
 ],
 "metadata": {
  "kernelspec": {
   "display_name": "Python 2",
   "language": "python",
   "name": "python2"
  },
  "language_info": {
   "codemirror_mode": {
    "name": "ipython",
    "version": 2
   },
   "file_extension": ".py",
   "mimetype": "text/x-python",
   "name": "python",
   "nbconvert_exporter": "python",
   "pygments_lexer": "ipython2",
   "version": "2.7.14"
  }
 },
 "nbformat": 4,
 "nbformat_minor": 2
}

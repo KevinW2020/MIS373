{
 "cells": [
  {
   "cell_type": "code",
   "execution_count": 1,
   "metadata": {},
   "outputs": [
    {
     "name": "stdout",
     "output_type": "stream",
     "text": [
      "Populating the interactive namespace from numpy and matplotlib\n"
     ]
    }
   ],
   "source": [
    "from pandas import Series, DataFrame\n",
    "import pandas as pd\n",
    "from patsy import dmatrices\n",
    "%pylab inline\n",
    "\n",
    "from sklearn.model_selection import train_test_split\n",
    "from sklearn.linear_model import LogisticRegression\n",
    "from sklearn import metrics\n",
    "\n",
    "import warnings\n",
    "warnings.filterwarnings('ignore')"
   ]
  },
  {
   "cell_type": "code",
   "execution_count": 2,
   "metadata": {
    "collapsed": true
   },
   "outputs": [],
   "source": [
    "df = pd.read_csv('aac_intakes_outcomes.csv')\n",
    "df['cat_or_dog'] = False\n",
    "\n",
    "def valid_animal(x):\n",
    "    valid = ['Dog','Cat']\n",
    "    if x in valid:\n",
    "        return True\n",
    "    return False\n",
    "\n",
    "df['cat_or_dog'] = df['animal_type'].apply(valid_animal)\n",
    "\n",
    "\n",
    "\n",
    "mask = (df['cat_or_dog'] == True)\n",
    "df = df[mask]\n",
    "\n",
    "colors = df['color'].value_counts()>100\n",
    "color_list = df['color'].value_counts()[colors].index.tolist()\n",
    "df['color_bin'] = 'other'\n",
    "def colortest(x):\n",
    "    if x in color_list:\n",
    "        return x\n",
    "    return 'other'\n",
    "df['color_bin'] = df['color'].apply(colortest)\n"
   ]
  },
  {
   "cell_type": "code",
   "execution_count": 3,
   "metadata": {
    "collapsed": true
   },
   "outputs": [],
   "source": [
    "categorical_columns_to_convert = ['intake_type', 'sex_upon_intake', 'intake_weekday', 'breed', 'color_bin', 'intake_condition', 'sex_upon_outcome', 'outcome_weekday']\n",
    "\n",
    "new_categorical_columns = []\n",
    "\n",
    "for column in categorical_columns_to_convert:\n",
    "    df[column] = df[column].astype('category')\n",
    "    new_column_name = column + \"_coded\"\n",
    "    new_categorical_columns.append(new_column_name)\n",
    "    df[new_column_name] = df[column].cat.codes\n",
    "\n",
    "categorical_columns = ['intake_month', 'intake_hour', 'outcome_month', 'outcome_hour', 'dob_month']\n",
    "\n",
    "all_categorical_columns = new_categorical_columns + categorical_columns                              \n",
    "                                \n",
    "numerical_columns = ['dob_year', 'age_upon_intake_(days)', 'age_upon_outcome_(days)', 'outcome_year', 'intake_year', 'time_in_shelter_days']"
   ]
  },
  {
   "cell_type": "code",
   "execution_count": 4,
   "metadata": {},
   "outputs": [
    {
     "data": {
      "text/plain": [
       "'target ~ 0 + Q(\"dob_year\") + Q(\"age_upon_intake_(days)\") + Q(\"age_upon_outcome_(days)\") + Q(\"outcome_year\") + Q(\"intake_year\") + Q(\"time_in_shelter_days\") + C(intake_type_coded) + C(sex_upon_intake_coded) + C(intake_weekday_coded) + C(breed_coded) + C(color_bin_coded) + C(intake_condition_coded) + C(sex_upon_outcome_coded) + C(outcome_weekday_coded) + C(intake_month) + C(intake_hour) + C(outcome_month) + C(outcome_hour) + C(dob_month)'"
      ]
     },
     "execution_count": 4,
     "metadata": {},
     "output_type": "execute_result"
    }
   ],
   "source": [
    "df = df[df['outcome_type'] != 'Return to Owner']\n",
    "\n",
    "df['target'] = 0\n",
    "mask = (df['outcome_type']=='Adoption')\n",
    "df['target'][mask] = 1.0\n",
    "\n",
    "def formula(numerical, categorical):\n",
    "    formula = 'target ~ 0'\n",
    "    for numerical_feature in numerical:\n",
    "        formula += ' + Q(\"' + numerical_feature + '\")'\n",
    "    for categorical_feature in categorical:\n",
    "        formula += ' + C(' + categorical_feature + ')'\n",
    "    return formula\n",
    "    \n",
    "formula = formula(numerical_columns, all_categorical_columns)\n",
    "formula"
   ]
  },
  {
   "cell_type": "code",
   "execution_count": 5,
   "metadata": {},
   "outputs": [
    {
     "name": "stdout",
     "output_type": "stream",
     "text": [
      "Training accuracy =  0.845388487842\n",
      "Test accuracy =  0.843315419137\n",
      "Baseline accuracy = 0.44739320738\n"
     ]
    },
    {
     "data": {
      "text/plain": [
       "C(sex_upon_outcome_coded)[T.4]   -1.563859\n",
       "C(sex_upon_intake_coded)[T.4]    -1.563859\n",
       "C(sex_upon_outcome_coded)[T.1]   -1.356453\n",
       "C(breed_coded)[T.1768]           -0.677914\n",
       "C(intake_type_coded)[0]          -0.605772\n",
       "C(outcome_month)[T.4]            -0.605316\n",
       "C(intake_condition_coded)[T.7]   -0.457303\n",
       "C(sex_upon_intake_coded)[T.3]    -0.443738\n",
       "C(outcome_hour)[T.9]             -0.431439\n",
       "C(breed_coded)[T.1521]           -0.429523\n",
       "C(breed_coded)[T.910]            -0.429001\n",
       "C(intake_hour)[T.20]             -0.412278\n",
       "C(breed_coded)[T.37]             -0.398839\n",
       "C(breed_coded)[T.74]             -0.371884\n",
       "C(breed_coded)[T.63]             -0.353738\n",
       "C(intake_type_coded)[2]          -0.340770\n",
       "C(outcome_month)[T.5]            -0.340345\n",
       "C(breed_coded)[T.1260]           -0.335290\n",
       "C(breed_coded)[T.1290]           -0.320881\n",
       "C(outcome_month)[T.3]            -0.315908\n",
       "C(breed_coded)[T.741]            -0.308012\n",
       "C(intake_condition_coded)[T.2]   -0.277560\n",
       "C(color_bin_coded)[T.28]         -0.273734\n",
       "C(breed_coded)[T.1553]           -0.265405\n",
       "C(breed_coded)[T.905]            -0.257552\n",
       "C(color_bin_coded)[T.66]         -0.255783\n",
       "C(intake_hour)[T.23]             -0.252026\n",
       "C(breed_coded)[T.427]            -0.246172\n",
       "C(breed_coded)[T.1345]           -0.243091\n",
       "C(color_bin_coded)[T.61]         -0.242902\n",
       "                                    ...   \n",
       "C(intake_hour)[T.7]               0.354173\n",
       "C(breed_coded)[T.1152]            0.356397\n",
       "C(outcome_hour)[T.11]             0.359724\n",
       "C(breed_coded)[T.87]              0.360506\n",
       "C(breed_coded)[T.107]             0.391939\n",
       "C(outcome_month)[T.8]             0.392523\n",
       "C(intake_type_coded)[3]           0.405001\n",
       "C(breed_coded)[T.364]             0.410866\n",
       "C(outcome_month)[T.7]             0.415526\n",
       "C(outcome_hour)[T.14]             0.425115\n",
       "C(outcome_hour)[T.13]             0.472914\n",
       "C(intake_condition_coded)[T.3]    0.501081\n",
       "C(breed_coded)[T.1795]            0.505233\n",
       "C(intake_type_coded)[1]           0.513273\n",
       "C(outcome_hour)[T.15]             0.580304\n",
       "C(outcome_hour)[T.20]             0.595158\n",
       "C(outcome_hour)[T.7]              0.602074\n",
       "C(outcome_hour)[T.8]              0.619565\n",
       "C(outcome_hour)[T.12]             0.658960\n",
       "C(outcome_weekday_coded)[T.3]     0.793429\n",
       "C(sex_upon_intake_coded)[T.1]     0.850433\n",
       "C(outcome_hour)[T.21]             0.906252\n",
       "C(outcome_weekday_coded)[T.2]     0.966367\n",
       "C(outcome_hour)[T.16]             1.049636\n",
       "C(outcome_hour)[T.22]             1.134042\n",
       "C(outcome_hour)[T.19]             1.678466\n",
       "C(outcome_hour)[T.17]             1.964217\n",
       "C(outcome_hour)[T.18]             2.121155\n",
       "C(sex_upon_outcome_coded)[T.2]    2.364019\n",
       "C(sex_upon_outcome_coded)[T.3]    3.248609\n",
       "Length: 1934, dtype: float64"
      ]
     },
     "execution_count": 5,
     "metadata": {},
     "output_type": "execute_result"
    }
   ],
   "source": [
    "\n",
    "Y, X = dmatrices(formula, df, return_type='dataframe')\n",
    "y = Y['target'].values\n",
    "X_train, X_test, y_train, y_test = train_test_split(X, y, test_size=0.3, random_state=1)\n",
    "model = LogisticRegression()\n",
    "result = model.fit(X_train, y_train)\n",
    "prediction_train = model.predict(X_train)\n",
    "prediction_test = model.predict(X_test)\n",
    "\n",
    "print 'Training accuracy = ', metrics.accuracy_score(y_train, prediction_train)\n",
    "print 'Test accuracy = ', metrics.accuracy_score(y_test, prediction_test)\n",
    "\n",
    "negative_examples_in_test = len(y_test[y_test==0])\n",
    "total_examples_in_test = len(y_test)\n",
    "print 'Baseline accuracy =', negative_examples_in_test * 1.0 / total_examples_in_test\n",
    "\n",
    "weights = Series(model.coef_[0],\n",
    "                 index=X.columns.values)\n",
    "weights.sort_values()"
   ]
  },
  {
   "cell_type": "code",
   "execution_count": 18,
   "metadata": {},
   "outputs": [
    {
     "name": "stdout",
     "output_type": "stream",
     "text": [
      " Training accuracy =  0.820387269085\n",
      "Test accuracy =  0.815226422933\n",
      "Baseline accuracy = 0.360303282094\n"
     ]
    },
    {
     "data": {
      "text/plain": [
       "C(intake_type_coded)[0]          -1.013525\n",
       "C(breed_coded)[T.1768]           -0.952154\n",
       "C(sex_upon_outcome_coded)[T.4]   -0.853027\n",
       "C(sex_upon_intake_coded)[T.4]    -0.853027\n",
       "C(sex_upon_outcome_coded)[T.1]   -0.740447\n",
       "C(intake_condition_coded)[T.7]   -0.604588\n",
       "C(breed_coded)[T.1767]           -0.524429\n",
       "C(breed_coded)[T.427]            -0.498088\n",
       "C(breed_coded)[T.1290]           -0.496213\n",
       "C(breed_coded)[T.881]            -0.458304\n",
       "C(breed_coded)[T.74]             -0.434310\n",
       "C(breed_coded)[T.1521]           -0.426801\n",
       "C(breed_coded)[T.1627]           -0.425386\n",
       "C(breed_coded)[T.1260]           -0.422119\n",
       "C(color_bin_coded)[T.28]         -0.397715\n",
       "C(breed_coded)[T.1569]           -0.395820\n",
       "C(breed_coded)[T.63]             -0.391012\n",
       "C(breed_coded)[T.1069]           -0.386118\n",
       "C(color_bin_coded)[T.35]         -0.364226\n",
       "C(intake_condition_coded)[T.2]   -0.357381\n",
       "C(breed_coded)[T.742]            -0.356809\n",
       "C(intake_weekday_coded)[T.5]     -0.334552\n",
       "C(breed_coded)[T.791]            -0.333347\n",
       "C(outcome_hour)[T.10]            -0.327925\n",
       "C(breed_coded)[T.426]            -0.311853\n",
       "C(intake_month)[T.9]             -0.303784\n",
       "C(breed_coded)[T.723]            -0.289987\n",
       "C(breed_coded)[T.1613]           -0.287331\n",
       "C(breed_coded)[T.1626]           -0.287326\n",
       "C(breed_coded)[T.1520]           -0.272452\n",
       "                                    ...   \n",
       "C(breed_coded)[T.107]             0.354024\n",
       "C(breed_coded)[T.1709]            0.367456\n",
       "C(breed_coded)[T.408]             0.393641\n",
       "C(intake_condition_coded)[T.4]    0.403051\n",
       "C(breed_coded)[T.158]             0.412462\n",
       "C(intake_condition_coded)[T.3]    0.416956\n",
       "C(breed_coded)[T.87]              0.420430\n",
       "C(outcome_hour)[T.14]             0.420988\n",
       "C(outcome_hour)[T.13]             0.426886\n",
       "C(outcome_hour)[T.20]             0.433881\n",
       "C(breed_coded)[T.520]             0.445140\n",
       "C(outcome_hour)[T.15]             0.452055\n",
       "C(outcome_hour)[T.7]              0.468522\n",
       "C(intake_type_coded)[1]           0.500987\n",
       "C(breed_coded)[T.1795]            0.515155\n",
       "C(outcome_hour)[T.12]             0.581474\n",
       "C(breed_coded)[T.364]             0.591798\n",
       "C(sex_upon_intake_coded)[T.2]     0.607913\n",
       "C(intake_type_coded)[3]           0.617398\n",
       "C(outcome_hour)[T.22]             0.646537\n",
       "C(outcome_hour)[T.21]             0.711281\n",
       "C(outcome_weekday_coded)[T.3]     0.723911\n",
       "C(outcome_hour)[T.16]             0.751657\n",
       "C(sex_upon_intake_coded)[T.1]     1.000520\n",
       "C(outcome_weekday_coded)[T.2]     1.034787\n",
       "C(outcome_hour)[T.17]             1.810987\n",
       "C(outcome_hour)[T.18]             2.313936\n",
       "C(sex_upon_outcome_coded)[T.2]    2.348880\n",
       "C(outcome_hour)[T.19]             2.432088\n",
       "C(sex_upon_outcome_coded)[T.3]    3.438950\n",
       "Length: 1835, dtype: float64"
      ]
     },
     "execution_count": 18,
     "metadata": {},
     "output_type": "execute_result"
    }
   ],
   "source": [
    "df_dogs = df[df['animal_type'] == 'Dog']\n",
    "\n",
    "Y_dog, X_dog = dmatrices(formula, df_dogs, return_type='dataframe')\n",
    "y_dog = Y_dog['target'].values\n",
    "X_train_dog, X_test_dog, y_train_dog, y_test_dog = train_test_split(X_dog, y_dog, test_size=0.3, random_state=1)\n",
    "model_dog = LogisticRegression()\n",
    "result = model_dog.fit(X_train_dog, y_train_dog)\n",
    "prediction_train_dog = model_dog.predict(X_train_dog)\n",
    "prediction_test_dog = model_dog.predict(X_test_dog)\n",
    "\n",
    "print 'Training accuracy = ', metrics.accuracy_score(y_train_dog, prediction_train_dog)\n",
    "print 'Test accuracy = ', metrics.accuracy_score(y_test_dog, prediction_test_dog)\n",
    "\n",
    "negative_examples_in_test_dog = len(y_test_dog[y_test_dog==0])\n",
    "total_examples_in_test_dog = len(y_test_dog)\n",
    "print 'Baseline accuracy =', negative_examples_in_test_dog * 1.0 / total_examples_in_test_dog\n",
    "\n",
    "weights_dog = Series(model_dog.coef_[0],\n",
    "                 index=X_dog.columns.values)\n",
    "weights_dog.sort_values()"
   ]
  },
  {
   "cell_type": "code",
   "execution_count": 19,
   "metadata": {},
   "outputs": [
    {
     "name": "stdout",
     "output_type": "stream",
     "text": [
      "Training accuracy =  0.883646358223\n",
      "Test accuracy =  0.876855480347\n",
      "Baseline accuracy = 0.546253414084\n"
     ]
    },
    {
     "data": {
      "text/plain": [
       "C(sex_upon_intake_coded)[T.4]    -2.099189\n",
       "C(sex_upon_outcome_coded)[T.4]   -2.099189\n",
       "C(sex_upon_outcome_coded)[T.1]   -1.406018\n",
       "C(intake_condition_coded)[T.1]   -1.299232\n",
       "C(outcome_month)[T.4]            -0.837268\n",
       "C(breed_coded)[T.904]            -0.787540\n",
       "C(sex_upon_intake_coded)[T.3]    -0.771217\n",
       "C(breed_coded)[T.1792]           -0.578247\n",
       "C(intake_type_coded)[2]          -0.534343\n",
       "C(breed_coded)[T.909]            -0.506617\n",
       "C(breed_coded)[T.910]            -0.501694\n",
       "C(intake_hour)[T.20]             -0.498565\n",
       "C(outcome_month)[T.3]            -0.491721\n",
       "C(breed_coded)[T.72]             -0.485878\n",
       "C(dob_month)[T.12]               -0.410691\n",
       "C(breed_coded)[T.905]            -0.407730\n",
       "C(intake_type_coded)[0]          -0.363543\n",
       "C(outcome_month)[T.5]            -0.348175\n",
       "C(outcome_hour)[T.9]             -0.346991\n",
       "C(intake_condition_coded)[T.5]   -0.346749\n",
       "C(breed_coded)[T.1826]           -0.342111\n",
       "C(outcome_weekday_coded)[T.6]    -0.332742\n",
       "C(color_bin_coded)[T.64]         -0.315360\n",
       "C(outcome_weekday_coded)[T.5]    -0.281129\n",
       "C(breed_coded)[T.1790]           -0.276929\n",
       "C(breed_coded)[T.104]            -0.275132\n",
       "C(outcome_weekday_coded)[T.4]    -0.268230\n",
       "C(color_bin_coded)[T.31]         -0.257720\n",
       "C(breed_coded)[T.788]            -0.252906\n",
       "C(breed_coded)[T.908]            -0.247831\n",
       "                                    ...   \n",
       "C(dob_month)[T.4]                 0.494134\n",
       "C(intake_hour)[T.22]              0.500490\n",
       "C(dob_month)[T.3]                 0.541308\n",
       "C(outcome_month)[T.7]             0.574217\n",
       "C(color_bin_coded)[T.55]          0.623612\n",
       "C(breed_coded)[T.1513]            0.650250\n",
       "C(intake_type_coded)[1]           0.687971\n",
       "C(intake_condition_coded)[T.3]    0.727452\n",
       "C(color_bin_coded)[T.2]           0.787553\n",
       "C(outcome_hour)[T.10]             0.882563\n",
       "C(outcome_weekday_coded)[T.3]     0.972849\n",
       "C(outcome_hour)[T.13]             0.985470\n",
       "C(outcome_hour)[T.14]             1.035238\n",
       "C(sex_upon_intake_coded)[T.1]     1.039948\n",
       "C(outcome_weekday_coded)[T.2]     1.042025\n",
       "C(outcome_hour)[T.15]             1.148232\n",
       "C(outcome_hour)[T.6]              1.194810\n",
       "C(outcome_hour)[T.12]             1.225567\n",
       "C(outcome_hour)[T.20]             1.232457\n",
       "C(outcome_hour)[T.11]             1.382109\n",
       "C(outcome_hour)[T.8]              1.560695\n",
       "C(outcome_hour)[T.7]              1.709326\n",
       "C(outcome_hour)[T.19]             1.736229\n",
       "C(outcome_hour)[T.16]             1.907785\n",
       "C(outcome_hour)[T.21]             2.135010\n",
       "C(sex_upon_outcome_coded)[T.2]    2.432345\n",
       "C(outcome_hour)[T.18]             2.649918\n",
       "C(outcome_hour)[T.17]             2.867263\n",
       "C(outcome_hour)[T.22]             2.986550\n",
       "C(sex_upon_outcome_coded)[T.3]    3.325980\n",
       "Length: 245, dtype: float64"
      ]
     },
     "execution_count": 19,
     "metadata": {},
     "output_type": "execute_result"
    }
   ],
   "source": [
    "df_cats = df[df['animal_type'] == 'Cat']\n",
    "\n",
    "Y_cat, X_cat = dmatrices(formula, df_cats, return_type='dataframe')\n",
    "y_cat = Y_cat['target'].values\n",
    "X_train_cat, X_test_cat, y_train_cat, y_test_cat = train_test_split(X, y, test_size=0.3, random_state=1)\n",
    "model_cat = LogisticRegression()\n",
    "result = model_cat.fit(X_train_cat, y_train_cat)\n",
    "prediction_train_cat = model_cat.predict(X_train_cat)\n",
    "prediction_test_cat = model_cat.predict(X_test_cat)\n",
    "\n",
    "print 'Training accuracy = ', metrics.accuracy_score(y_train_cat, prediction_train_cat)\n",
    "print 'Test accuracy = ', metrics.accuracy_score(y_test_cat, prediction_test_cat)\n",
    "\n",
    "negative_examples_in_test_cat = len(y_test_cat[y_test_cat==0])\n",
    "total_examples_in_test_cat = len(y_test_cat)\n",
    "print 'Baseline accuracy =', negative_examples_in_test_cat * 1.0 / total_examples_in_test_cat\n",
    "\n",
    "weights_cat = Series(model_cat.coef_[0],\n",
    "                 index=X_cat.columns.values)\n",
    "weights_cat.sort_values()"
   ]
  },
  {
   "cell_type": "code",
   "execution_count": null,
   "metadata": {
    "collapsed": true
   },
   "outputs": [],
   "source": [
    "df['sex_upon_outcome']"
   ]
  },
  {
   "cell_type": "code",
   "execution_count": null,
   "metadata": {
    "collapsed": true
   },
   "outputs": [],
   "source": []
  }
 ],
 "metadata": {
  "kernelspec": {
   "display_name": "Python 2",
   "language": "python",
   "name": "python2"
  },
  "language_info": {
   "codemirror_mode": {
    "name": "ipython",
    "version": 2
   },
   "file_extension": ".py",
   "mimetype": "text/x-python",
   "name": "python",
   "nbconvert_exporter": "python",
   "pygments_lexer": "ipython2",
   "version": "2.7.14"
  }
 },
 "nbformat": 4,
 "nbformat_minor": 2
}

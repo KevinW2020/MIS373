{
 "cells": [
  {
   "cell_type": "code",
   "execution_count": 2,
   "metadata": {},
   "outputs": [
    {
     "name": "stdout",
     "output_type": "stream",
     "text": [
      "Populating the interactive namespace from numpy and matplotlib\n"
     ]
    }
   ],
   "source": [
    "from pandas import Series, DataFrame\n",
    "import pandas as pd\n",
    "from patsy import dmatrices\n",
    "%pylab inline\n",
    "\n",
    "# We will ignore some silly warnings that pop up due to scikit-learn\n",
    "import warnings\n",
    "warnings.filterwarnings('ignore')"
   ]
  },
  {
   "cell_type": "markdown",
   "metadata": {},
   "source": [
    "# Adoption Data"
   ]
  },
  {
   "cell_type": "code",
   "execution_count": 131,
   "metadata": {
    "scrolled": true
   },
   "outputs": [
    {
     "data": {
      "text/plain": [
       "Dog     45366\n",
       "Cat     29539\n",
       "Bird      339\n",
       "Name: animal_type, dtype: int64"
      ]
     },
     "execution_count": 131,
     "metadata": {},
     "output_type": "execute_result"
    }
   ],
   "source": [
    "df = pd.read_csv('aac_intakes_outcomes.csv')\n",
    "\n",
    "\n",
    "\n",
    "\n",
    "#There's also a bunch of random animals in here that maybe skew the data (bats, possums). Let's take those out.\n",
    "df['catordog'] = False\n",
    "def catdogcheck(x):\n",
    "    valid = ['Dog','Cat','Bird']\n",
    "    if x in valid:\n",
    "        return True\n",
    "    return False\n",
    "df['catordog'] = df['animal_type'].apply(catdogcheck)\n",
    "cdmask = (df['catordog']==True)\n",
    "df = df[cdmask]\n",
    "\n",
    "df['animal_type'].value_counts()"
   ]
  },
  {
   "cell_type": "code",
   "execution_count": 144,
   "metadata": {},
   "outputs": [
    {
     "data": {
      "text/plain": [
       "Neutered Male    21791\n",
       "Spayed Female    20649\n",
       "Intact Female     7746\n",
       "Intact Male       7360\n",
       "Name: sex_upon_outcome, dtype: int64"
      ]
     },
     "execution_count": 144,
     "metadata": {},
     "output_type": "execute_result"
    }
   ],
   "source": [
    "#Some filtering\n",
    "\n",
    "#Convert 'age_upon_outcome' from string with 'year' into just the string with the number\n",
    "def seperation(x):\n",
    "    y = x.split(' ')\n",
    "    return (y[0])\n",
    "df['just_age'] = df['age_upon_outcome'].apply(seperation)\n",
    "\n",
    "#Take out 'mix' from the breeds, condenses the number of dummy variables later on\n",
    "def mixer(x):\n",
    "    if 'Mix' in x:\n",
    "        s = x.replace(' Mix','')\n",
    "        return s\n",
    "    return x\n",
    "df['breed_nomix'] = df['breed'].apply(mixer)\n",
    "\n",
    "\n",
    "#Now seperate the breed into bins based off frequency, arbitrarily set threshold at 100\n",
    "num = df['breed_nomix'].value_counts()>100\n",
    "a = df['breed_nomix'].value_counts()[num].index.tolist()\n",
    "df['breed_bin'] = 'other'\n",
    "def breedtest(x):\n",
    "    if x in a:\n",
    "        return x\n",
    "    return 'other'\n",
    "df['breed_bin'] = df['breed_nomix'].apply(breedtest)\n",
    "\n",
    "#Get colors where the count is greater than 100, more relevant I guess this way\n",
    "col = df['color'].value_counts()>100\n",
    "b = df['color'].value_counts()[col].index.tolist()\n",
    "df['color_bin'] = 'other'\n",
    "def colortest(x):\n",
    "    if x in b:\n",
    "        return x\n",
    "    return 'other'\n",
    "df['color_bin'] = df['color'].apply(colortest)\n",
    "#df['color_bin'].value_counts()\n",
    "\n",
    "#Also filter out the unknown genders\n",
    "gen = df['sex_upon_outcome'] != 'Unknown'\n",
    "df = df[gen]\n",
    "df['sex_upon_outcome'].value_counts()\n"
   ]
  },
  {
   "cell_type": "code",
   "execution_count": 146,
   "metadata": {},
   "outputs": [],
   "source": [
    "# Setting up regressions using naive-bayes\n",
    "\n",
    "# Should we filter out return to owner? seems logical because we want to look at actual strays, not ones that just got lost for a few days\n",
    "\n",
    "mask = (df['outcome_type'] != 'Return to Owner')\n",
    "df1 = df[mask]\n",
    "\n",
    "\n",
    "# df1 now excludes all pets that were returned to owner, future analysis may include ones that were returned \n",
    "# after an extended period of time, for now it will only include long-term strays\n",
    "df1['target_adopt'] = 0\n",
    "mask = (df1['outcome_type']=='Adoption')\n",
    "df1['target_adopt'][mask] = 1.0\n",
    "#df1['target_adopt'].value_counts()\n",
    "\n",
    "#Important to use categorical, most factors seem categorical except time in shelter (days), will qcut\n",
    "df1['time_spent_shelter']= pd.qcut(df['time_in_shelter_days'],5)\n",
    "#df1['time_spent_shelter'].value_counts()\n",
    "\n",
    "#Seperate dates of birth into buckets as well\n",
    "df1['DOB_DT'] = pd.to_datetime(df['date_of_birth'])\n",
    "#df1['DOB_DT'][:5]\n",
    "df1['DOB_bucket'] = pd.qcut(df1['DOB_DT'],5)\n",
    "#df1['DOB_bucket'].value_counts()\n",
    "\n",
    "#Change the age into a num and seperate into buckets\n",
    "df1['age_upon_outcome_numeric']= pd.to_numeric(df1['just_age'])\n",
    "df1['age_bucket'] = pd.qcut(df1['age_upon_outcome_numeric'],5)\n",
    "#df1['age_bucket'].value_counts()"
   ]
  },
  {
   "cell_type": "code",
   "execution_count": 147,
   "metadata": {},
   "outputs": [
    {
     "name": "stdout",
     "output_type": "stream",
     "text": [
      "['age_upon_outcome' 'animal_id_outcome' 'date_of_birth' 'outcome_subtype'\n",
      " 'outcome_type' 'sex_upon_outcome' 'age_upon_outcome_(days)'\n",
      " 'age_upon_outcome_(years)' 'age_upon_outcome_age_group' 'outcome_datetime'\n",
      " 'outcome_month' 'outcome_year' 'outcome_monthyear' 'outcome_weekday'\n",
      " 'outcome_hour' 'outcome_number' 'dob_year' 'dob_month' 'dob_monthyear'\n",
      " 'age_upon_intake' 'animal_id_intake' 'animal_type' 'breed' 'color'\n",
      " 'found_location' 'intake_condition' 'intake_type' 'sex_upon_intake'\n",
      " 'count' 'age_upon_intake_(days)' 'age_upon_intake_(years)'\n",
      " 'age_upon_intake_age_group' 'intake_datetime' 'intake_month' 'intake_year'\n",
      " 'intake_monthyear' 'intake_weekday' 'intake_hour' 'intake_number'\n",
      " 'time_in_shelter' 'time_in_shelter_days' 'catordog' 'just_age'\n",
      " 'breed_nomix' 'breed_bin' 'color_bin' 'target_adopt' 'time_spent_shelter'\n",
      " 'DOB_DT' 'DOB_bucket' 'age_upon_outcome_numeric' 'age_bucket']\n"
     ]
    }
   ],
   "source": [
    "print df1.columns.values\n",
    "\n",
    "#Going to use age_upon_outcome, date_of_birth, outcome_type, sex_upon_outocome, outcome_monthyear, outcome_weekday, outcome_hour, animal_type\n",
    "#breed,color, intake_coundition, time_in_shelter_days"
   ]
  },
  {
   "cell_type": "code",
   "execution_count": 148,
   "metadata": {},
   "outputs": [
    {
     "data": {
      "text/plain": [
       "array(['age_bucket_(-0.001, 1.0]', 'age_bucket_(1.0, 2.0]',\n",
       "       'age_bucket_(2.0, 3.0]', 'age_bucket_(3.0, 5.0]',\n",
       "       'age_bucket_(5.0, 25.0]',\n",
       "       'DOB_bucket_(1991-12-10 23:59:59.999999999, 2012-07-28]',\n",
       "       'DOB_bucket_(2012-07-28, 2014-03-18]',\n",
       "       'DOB_bucket_(2014-03-18, 2015-04-03]',\n",
       "       'DOB_bucket_(2015-04-03, 2016-04-17]',\n",
       "       'DOB_bucket_(2016-04-17, 2018-03-24]'], dtype=object)"
      ]
     },
     "execution_count": 148,
     "metadata": {},
     "output_type": "execute_result"
    }
   ],
   "source": [
    "#Create categories to analyze\n",
    "categorical_columns = ['age_bucket','DOB_bucket','sex_upon_outcome','animal_type',\n",
    "                       'intake_condition','time_spent_shelter','breed_bin','color_bin']\n",
    "df_dummies = pd.get_dummies(df1[categorical_columns],\n",
    "                            prefix=categorical_columns,\n",
    "                            columns=categorical_columns)\n",
    "dummy_column_names = df_dummies.columns.values\n",
    "dummy_column_names[:10]\n"
   ]
  },
  {
   "cell_type": "code",
   "execution_count": 149,
   "metadata": {},
   "outputs": [
    {
     "name": "stdout",
     "output_type": "stream",
     "text": [
      "target_adopt ~ 0 + Q(\"age_bucket_(-0.001, 1.0]\") + Q(\"age_bucket_(1.0, 2.0]\") + Q(\"age_bucket_(2.0, 3.0]\") + Q(\"age_bucket_(3.0, 5.0]\") + Q(\"age_bucket_(5.0, 25.0]\") + Q(\"DOB_bucket_(1991-12-10 23:59:59.999999999, 2012-07-28]\") + Q(\"DOB_bucket_(2012-07-28, 2014-03-18]\") + Q(\"DOB_bucket_(2014-03-18, 2015-04-03]\") + Q(\"DOB_bucket_(2015-04-03, 2016-04-17]\") + Q(\"DOB_bucket_(2016-04-17, 2018-03-24]\") + Q(\"sex_upon_outcome_Intact Female\") + Q(\"sex_upon_outcome_Intact Male\") + Q(\"sex_upon_outcome_Neutered Male\") + Q(\"sex_upon_outcome_Spayed Female\") + Q(\"animal_type_Bird\") + Q(\"animal_type_Cat\") + Q(\"animal_type_Dog\") + Q(\"intake_condition_Aged\") + Q(\"intake_condition_Feral\") + Q(\"intake_condition_Injured\") + Q(\"intake_condition_Normal\") + Q(\"intake_condition_Nursing\") + Q(\"intake_condition_Other\") + Q(\"intake_condition_Pregnant\") + Q(\"intake_condition_Sick\") + Q(\"time_spent_shelter_(-0.000306, 2.92]\") + Q(\"time_spent_shelter_(2.92, 5.08]\") + Q(\"time_spent_shelter_(5.08, 9.983]\") + Q(\"time_spent_shelter_(9.983, 30.253]\") + Q(\"time_spent_shelter_(30.253, 1268.975]\") + Q(\"breed_bin_American Bulldog\") + Q(\"breed_bin_American Pit Bull Terrier\") + Q(\"breed_bin_American Shorthair\") + Q(\"breed_bin_American Staffordshire Terrier\") + Q(\"breed_bin_Anatol Shepherd\") + Q(\"breed_bin_Australian Cattle Dog\") + Q(\"breed_bin_Australian Kelpie\") + Q(\"breed_bin_Australian Shepherd\") + Q(\"breed_bin_Beagle\") + Q(\"breed_bin_Black Mouth Cur\") + Q(\"breed_bin_Border Collie\") + Q(\"breed_bin_Border Terrier\") + Q(\"breed_bin_Boxer\") + Q(\"breed_bin_Cairn Terrier\") + Q(\"breed_bin_Catahoula\") + Q(\"breed_bin_Chicken\") + Q(\"breed_bin_Chihuahua Longhair\") + Q(\"breed_bin_Chihuahua Shorthair\") + Q(\"breed_bin_Chihuahua Shorthair/Dachshund\") + Q(\"breed_bin_Chow Chow\") + Q(\"breed_bin_Dachshund\") + Q(\"breed_bin_Dachshund/Chihuahua Shorthair\") + Q(\"breed_bin_Doberman Pinsch\") + Q(\"breed_bin_Domestic Longhair\") + Q(\"breed_bin_Domestic Medium Hair\") + Q(\"breed_bin_Domestic Shorthair\") + Q(\"breed_bin_German Shepherd\") + Q(\"breed_bin_German Shepherd/Labrador Retriever\") + Q(\"breed_bin_Golden Retriever\") + Q(\"breed_bin_Great Pyrenees\") + Q(\"breed_bin_Jack Russell Terrier\") + Q(\"breed_bin_Labrador Retriever\") + Q(\"breed_bin_Labrador Retriever/German Shepherd\") + Q(\"breed_bin_Labrador Retriever/Pit Bull\") + Q(\"breed_bin_Maltese\") + Q(\"breed_bin_Miniature Pinscher\") + Q(\"breed_bin_Miniature Poodle\") + Q(\"breed_bin_Miniature Schnauzer\") + Q(\"breed_bin_Pit Bull\") + Q(\"breed_bin_Plott Hound\") + Q(\"breed_bin_Pointer\") + Q(\"breed_bin_Queensland Heeler\") + Q(\"breed_bin_Rat Terrier\") + Q(\"breed_bin_Rottweiler\") + Q(\"breed_bin_Shih Tzu\") + Q(\"breed_bin_Siamese\") + Q(\"breed_bin_Siberian Husky\") + Q(\"breed_bin_Snowshoe\") + Q(\"breed_bin_Staffordshire\") + Q(\"breed_bin_Yorkshire Terrier\") + Q(\"breed_bin_other\") + Q(\"color_bin_Black\") + Q(\"color_bin_Black Brindle/White\") + Q(\"color_bin_Black Smoke\") + Q(\"color_bin_Black Tabby\") + Q(\"color_bin_Black/Brown\") + Q(\"color_bin_Black/Tan\") + Q(\"color_bin_Black/Tricolor\") + Q(\"color_bin_Black/White\") + Q(\"color_bin_Blue\") + Q(\"color_bin_Blue Merle\") + Q(\"color_bin_Blue Tabby\") + Q(\"color_bin_Blue Tabby/White\") + Q(\"color_bin_Blue/White\") + Q(\"color_bin_Brown\") + Q(\"color_bin_Brown Brindle\") + Q(\"color_bin_Brown Brindle/White\") + Q(\"color_bin_Brown Tabby\") + Q(\"color_bin_Brown Tabby/White\") + Q(\"color_bin_Brown/Black\") + Q(\"color_bin_Brown/Tan\") + Q(\"color_bin_Brown/White\") + Q(\"color_bin_Buff\") + Q(\"color_bin_Calico\") + Q(\"color_bin_Chocolate\") + Q(\"color_bin_Chocolate/Tan\") + Q(\"color_bin_Chocolate/White\") + Q(\"color_bin_Cream\") + Q(\"color_bin_Cream Tabby\") + Q(\"color_bin_Cream Tabby/White\") + Q(\"color_bin_Cream/White\") + Q(\"color_bin_Fawn\") + Q(\"color_bin_Fawn/White\") + Q(\"color_bin_Flame Point\") + Q(\"color_bin_Gray\") + Q(\"color_bin_Gray Tabby\") + Q(\"color_bin_Gray/White\") + Q(\"color_bin_Lynx Point\") + Q(\"color_bin_Orange Tabby\") + Q(\"color_bin_Orange Tabby/White\") + Q(\"color_bin_Red\") + Q(\"color_bin_Red/Black\") + Q(\"color_bin_Red/White\") + Q(\"color_bin_Sable\") + Q(\"color_bin_Sable/White\") + Q(\"color_bin_Seal Point\") + Q(\"color_bin_Tan\") + Q(\"color_bin_Tan/Black\") + Q(\"color_bin_Tan/White\") + Q(\"color_bin_Torbie\") + Q(\"color_bin_Torbie/White\") + Q(\"color_bin_Tortie\") + Q(\"color_bin_Tricolor\") + Q(\"color_bin_White\") + Q(\"color_bin_White/Black\") + Q(\"color_bin_White/Blue\") + Q(\"color_bin_White/Brown\") + Q(\"color_bin_White/Brown Brindle\") + Q(\"color_bin_White/Brown Tabby\") + Q(\"color_bin_White/Gray\") + Q(\"color_bin_White/Red\") + Q(\"color_bin_White/Tan\") + Q(\"color_bin_Yellow\") + Q(\"color_bin_other\")\n"
     ]
    }
   ],
   "source": [
    "#Concatanate the columns and throw them together, then format\n",
    "df2 = pd.concat([df1, df_dummies], axis=1)\n",
    "formula = 'target_adopt ~ 0 + {}'.format(' + '.join(['Q(\"{}\")'.format(x) for x in dummy_column_names]))\n",
    "print formula"
   ]
  },
  {
   "cell_type": "code",
   "execution_count": 150,
   "metadata": {},
   "outputs": [
    {
     "data": {
      "text/plain": [
       "array([ 0.,  0.,  1.,  0.,  1.,  0.,  0.,  0.,  0.,  1.])"
      ]
     },
     "execution_count": 150,
     "metadata": {},
     "output_type": "execute_result"
    }
   ],
   "source": [
    "#Make the matrix\n",
    "Y, X = dmatrices(formula, df2, return_type='dataframe')\n",
    "y = Y['target_adopt'].values\n",
    "y[:10]"
   ]
  },
  {
   "cell_type": "code",
   "execution_count": 151,
   "metadata": {},
   "outputs": [
    {
     "data": {
      "text/plain": [
       "MultinomialNB(alpha=1.0, class_prior=None, fit_prior=True)"
      ]
     },
     "execution_count": 151,
     "metadata": {},
     "output_type": "execute_result"
    }
   ],
   "source": [
    "from sklearn import naive_bayes\n",
    "model = naive_bayes.MultinomialNB()\n",
    "model.fit(X,y)"
   ]
  },
  {
   "cell_type": "code",
   "execution_count": 152,
   "metadata": {},
   "outputs": [
    {
     "name": "stdout",
     "output_type": "stream",
     "text": [
      "Prediction\n",
      "[ 1.  1.  1.  0.  1.  0.  0.  0.  0.  1.]\n",
      "Actual\n",
      "[ 0.  0.  1.  0.  1.  0.  0.  0.  0.  1.]\n"
     ]
    }
   ],
   "source": [
    "print 'Prediction'\n",
    "print model.predict(X[:10])\n",
    "print 'Actual'\n",
    "print y[:10]"
   ]
  },
  {
   "cell_type": "code",
   "execution_count": 153,
   "metadata": {},
   "outputs": [
    {
     "name": "stdout",
     "output_type": "stream",
     "text": [
      "0.803930768429\n"
     ]
    }
   ],
   "source": [
    "#What's the accuracy of our predictions\n",
    "from sklearn import metrics\n",
    "prediction_train = model.predict(X)\n",
    "print metrics.accuracy_score(y, prediction_train)"
   ]
  },
  {
   "cell_type": "code",
   "execution_count": 154,
   "metadata": {},
   "outputs": [
    {
     "name": "stdout",
     "output_type": "stream",
     "text": [
      "Prior probability for the negative class is 0.420967573767\n",
      "Prior probability for the positive class is 0.579032426233\n"
     ]
    }
   ],
   "source": [
    "print 'Prior probability for the negative class is',\n",
    "print exp(model.class_log_prior_[0])\n",
    "print 'Prior probability for the positive class is',\n",
    "print exp(model.class_log_prior_[1])"
   ]
  },
  {
   "cell_type": "code",
   "execution_count": 155,
   "metadata": {},
   "outputs": [
    {
     "data": {
      "text/plain": [
       "Q(\"sex_upon_outcome_Intact Male\")            -2.685773\n",
       "Q(\"sex_upon_outcome_Intact Female\")          -2.568252\n",
       "Q(\"breed_bin_Shih Tzu\")                      -1.863499\n",
       "Q(\"time_spent_shelter_(-0.000306, 2.92]\")    -1.814789\n",
       "Q(\"intake_condition_Feral\")                  -1.587111\n",
       "Q(\"intake_condition_Sick\")                   -1.363791\n",
       "Q(\"time_spent_shelter_(30.253, 1268.975]\")    1.332277\n",
       "Q(\"color_bin_Gray Tabby\")                    -1.219387\n",
       "Q(\"intake_condition_Other\")                  -1.024819\n",
       "Q(\"intake_condition_Nursing\")                -0.966405\n",
       "dtype: float64"
      ]
     },
     "execution_count": 155,
     "metadata": {},
     "output_type": "execute_result"
    }
   ],
   "source": [
    "feature_importances = abs(model.feature_log_prob_[1] - model.feature_log_prob_[0])\n",
    "feature_importance_series = Series(feature_importances, index=X.columns.values)\n",
    "top_10_feature_indices = feature_importance_series.sort_values(ascending=False)[:10].index.values\n",
    "inter_class_differences = model.feature_log_prob_[1] - model.feature_log_prob_[0]\n",
    "new_feature_importance_series = Series(inter_class_differences, index=X.columns.values)\n",
    "\n",
    "new_feature_importance_series[top_10_feature_indices]\n"
   ]
  },
  {
   "cell_type": "markdown",
   "metadata": {
    "collapsed": true
   },
   "source": [
    "# Above is naive bayes for a whole bunch of different categorical variables, let's try to find more specifics and put in some graphs/charts "
   ]
  },
  {
   "cell_type": "code",
   "execution_count": 156,
   "metadata": {},
   "outputs": [
    {
     "data": {
      "text/plain": [
       "array(['breed_bin_American Bulldog', 'breed_bin_American Pit Bull Terrier',\n",
       "       'breed_bin_American Shorthair',\n",
       "       'breed_bin_American Staffordshire Terrier',\n",
       "       'breed_bin_Anatol Shepherd', 'breed_bin_Australian Cattle Dog',\n",
       "       'breed_bin_Australian Kelpie', 'breed_bin_Australian Shepherd',\n",
       "       'breed_bin_Beagle', 'breed_bin_Black Mouth Cur'], dtype=object)"
      ]
     },
     "execution_count": 156,
     "metadata": {},
     "output_type": "execute_result"
    }
   ],
   "source": [
    "# Let's work with naive bayes regression for just breed and color and sex first.\n",
    "#For simplification, ignoring breed and color for now\n",
    "categorical_columns1 = ['breed_bin','color_bin','sex_upon_outcome']\n",
    "df_dummies = pd.get_dummies(df1[categorical_columns1],\n",
    "                            prefix=categorical_columns1,\n",
    "                            columns=categorical_columns1)\n",
    "dummy_column_names = df_dummies.columns.values\n",
    "dummy_column_names[:10]"
   ]
  },
  {
   "cell_type": "code",
   "execution_count": 157,
   "metadata": {},
   "outputs": [
    {
     "name": "stdout",
     "output_type": "stream",
     "text": [
      "target_adopt ~ 0 + Q(\"breed_bin_American Bulldog\") + Q(\"breed_bin_American Pit Bull Terrier\") + Q(\"breed_bin_American Shorthair\") + Q(\"breed_bin_American Staffordshire Terrier\") + Q(\"breed_bin_Anatol Shepherd\") + Q(\"breed_bin_Australian Cattle Dog\") + Q(\"breed_bin_Australian Kelpie\") + Q(\"breed_bin_Australian Shepherd\") + Q(\"breed_bin_Beagle\") + Q(\"breed_bin_Black Mouth Cur\") + Q(\"breed_bin_Border Collie\") + Q(\"breed_bin_Border Terrier\") + Q(\"breed_bin_Boxer\") + Q(\"breed_bin_Cairn Terrier\") + Q(\"breed_bin_Catahoula\") + Q(\"breed_bin_Chicken\") + Q(\"breed_bin_Chihuahua Longhair\") + Q(\"breed_bin_Chihuahua Shorthair\") + Q(\"breed_bin_Chihuahua Shorthair/Dachshund\") + Q(\"breed_bin_Chow Chow\") + Q(\"breed_bin_Dachshund\") + Q(\"breed_bin_Dachshund/Chihuahua Shorthair\") + Q(\"breed_bin_Doberman Pinsch\") + Q(\"breed_bin_Domestic Longhair\") + Q(\"breed_bin_Domestic Medium Hair\") + Q(\"breed_bin_Domestic Shorthair\") + Q(\"breed_bin_German Shepherd\") + Q(\"breed_bin_German Shepherd/Labrador Retriever\") + Q(\"breed_bin_Golden Retriever\") + Q(\"breed_bin_Great Pyrenees\") + Q(\"breed_bin_Jack Russell Terrier\") + Q(\"breed_bin_Labrador Retriever\") + Q(\"breed_bin_Labrador Retriever/German Shepherd\") + Q(\"breed_bin_Labrador Retriever/Pit Bull\") + Q(\"breed_bin_Maltese\") + Q(\"breed_bin_Miniature Pinscher\") + Q(\"breed_bin_Miniature Poodle\") + Q(\"breed_bin_Miniature Schnauzer\") + Q(\"breed_bin_Pit Bull\") + Q(\"breed_bin_Plott Hound\") + Q(\"breed_bin_Pointer\") + Q(\"breed_bin_Queensland Heeler\") + Q(\"breed_bin_Rat Terrier\") + Q(\"breed_bin_Rottweiler\") + Q(\"breed_bin_Shih Tzu\") + Q(\"breed_bin_Siamese\") + Q(\"breed_bin_Siberian Husky\") + Q(\"breed_bin_Snowshoe\") + Q(\"breed_bin_Staffordshire\") + Q(\"breed_bin_Yorkshire Terrier\") + Q(\"breed_bin_other\") + Q(\"color_bin_Black\") + Q(\"color_bin_Black Brindle/White\") + Q(\"color_bin_Black Smoke\") + Q(\"color_bin_Black Tabby\") + Q(\"color_bin_Black/Brown\") + Q(\"color_bin_Black/Tan\") + Q(\"color_bin_Black/Tricolor\") + Q(\"color_bin_Black/White\") + Q(\"color_bin_Blue\") + Q(\"color_bin_Blue Merle\") + Q(\"color_bin_Blue Tabby\") + Q(\"color_bin_Blue Tabby/White\") + Q(\"color_bin_Blue/White\") + Q(\"color_bin_Brown\") + Q(\"color_bin_Brown Brindle\") + Q(\"color_bin_Brown Brindle/White\") + Q(\"color_bin_Brown Tabby\") + Q(\"color_bin_Brown Tabby/White\") + Q(\"color_bin_Brown/Black\") + Q(\"color_bin_Brown/Tan\") + Q(\"color_bin_Brown/White\") + Q(\"color_bin_Buff\") + Q(\"color_bin_Calico\") + Q(\"color_bin_Chocolate\") + Q(\"color_bin_Chocolate/Tan\") + Q(\"color_bin_Chocolate/White\") + Q(\"color_bin_Cream\") + Q(\"color_bin_Cream Tabby\") + Q(\"color_bin_Cream Tabby/White\") + Q(\"color_bin_Cream/White\") + Q(\"color_bin_Fawn\") + Q(\"color_bin_Fawn/White\") + Q(\"color_bin_Flame Point\") + Q(\"color_bin_Gray\") + Q(\"color_bin_Gray Tabby\") + Q(\"color_bin_Gray/White\") + Q(\"color_bin_Lynx Point\") + Q(\"color_bin_Orange Tabby\") + Q(\"color_bin_Orange Tabby/White\") + Q(\"color_bin_Red\") + Q(\"color_bin_Red/Black\") + Q(\"color_bin_Red/White\") + Q(\"color_bin_Sable\") + Q(\"color_bin_Sable/White\") + Q(\"color_bin_Seal Point\") + Q(\"color_bin_Tan\") + Q(\"color_bin_Tan/Black\") + Q(\"color_bin_Tan/White\") + Q(\"color_bin_Torbie\") + Q(\"color_bin_Torbie/White\") + Q(\"color_bin_Tortie\") + Q(\"color_bin_Tricolor\") + Q(\"color_bin_White\") + Q(\"color_bin_White/Black\") + Q(\"color_bin_White/Blue\") + Q(\"color_bin_White/Brown\") + Q(\"color_bin_White/Brown Brindle\") + Q(\"color_bin_White/Brown Tabby\") + Q(\"color_bin_White/Gray\") + Q(\"color_bin_White/Red\") + Q(\"color_bin_White/Tan\") + Q(\"color_bin_Yellow\") + Q(\"color_bin_other\") + Q(\"sex_upon_outcome_Intact Female\") + Q(\"sex_upon_outcome_Intact Male\") + Q(\"sex_upon_outcome_Neutered Male\") + Q(\"sex_upon_outcome_Spayed Female\")\n"
     ]
    }
   ],
   "source": [
    "#Concatanate the columns and throw them together, then format\n",
    "df2 = pd.concat([df1, df_dummies], axis=1)\n",
    "formula = 'target_adopt ~ 0 + {}'.format(' + '.join(['Q(\"{}\")'.format(x) for x in dummy_column_names]))\n",
    "print formula"
   ]
  },
  {
   "cell_type": "code",
   "execution_count": 158,
   "metadata": {},
   "outputs": [
    {
     "data": {
      "text/plain": [
       "array([ 0.,  0.,  1.,  0.,  1.,  0.,  0.,  0.,  0.,  1.])"
      ]
     },
     "execution_count": 158,
     "metadata": {},
     "output_type": "execute_result"
    }
   ],
   "source": [
    "#Make the matrix\n",
    "B, A = dmatrices(formula, df2, return_type='dataframe')\n",
    "b = B['target_adopt'].values\n",
    "b[:10]"
   ]
  },
  {
   "cell_type": "code",
   "execution_count": 159,
   "metadata": {},
   "outputs": [
    {
     "data": {
      "text/plain": [
       "MultinomialNB(alpha=1.0, class_prior=None, fit_prior=True)"
      ]
     },
     "execution_count": 159,
     "metadata": {},
     "output_type": "execute_result"
    }
   ],
   "source": [
    "model1 = naive_bayes.MultinomialNB()\n",
    "model1.fit(A,b)"
   ]
  },
  {
   "cell_type": "code",
   "execution_count": 160,
   "metadata": {},
   "outputs": [
    {
     "name": "stdout",
     "output_type": "stream",
     "text": [
      "Prediction\n",
      "[ 1.  1.  1.  1.  1.  1.  1.  1.  1.  1.]\n",
      "Actual\n",
      "[ 0.  0.  1.  0.  1.  0.  0.  0.  0.  1.]\n"
     ]
    }
   ],
   "source": [
    "print 'Prediction'\n",
    "print model1.predict(A[:10])\n",
    "print 'Actual'\n",
    "print b[:10]"
   ]
  },
  {
   "cell_type": "code",
   "execution_count": 161,
   "metadata": {},
   "outputs": [
    {
     "name": "stdout",
     "output_type": "stream",
     "text": [
      "0.794894519167\n"
     ]
    }
   ],
   "source": [
    "prediction_train = model1.predict(A)\n",
    "print metrics.accuracy_score(b, prediction_train)"
   ]
  },
  {
   "cell_type": "code",
   "execution_count": 162,
   "metadata": {},
   "outputs": [
    {
     "data": {
      "text/plain": [
       "Q(\"sex_upon_outcome_Intact Male\")                   -2.685773\n",
       "Q(\"sex_upon_outcome_Intact Female\")                 -2.568252\n",
       "Q(\"breed_bin_Shih Tzu\")                             -1.863499\n",
       "Q(\"color_bin_Gray Tabby\")                           -1.219387\n",
       "Q(\"breed_bin_Staffordshire\")                         0.959598\n",
       "Q(\"sex_upon_outcome_Spayed Female\")                  0.875474\n",
       "Q(\"breed_bin_German Shepherd/Labrador Retriever\")    0.791847\n",
       "Q(\"color_bin_Black/Tricolor\")                        0.768036\n",
       "Q(\"breed_bin_Siberian Husky\")                        0.766940\n",
       "Q(\"breed_bin_Cairn Terrier\")                         0.740792\n",
       "dtype: float64"
      ]
     },
     "execution_count": 162,
     "metadata": {},
     "output_type": "execute_result"
    }
   ],
   "source": [
    "feature_importances = abs(model1.feature_log_prob_[1] - model1.feature_log_prob_[0])\n",
    "feature_importance_series = Series(feature_importances, index=A.columns.values)\n",
    "top_10_feature_indices = feature_importance_series.sort_values(ascending=False)[:10].index.values\n",
    "inter_class_differences = model.feature_log_prob_[1] - model.feature_log_prob_[0]\n",
    "new_feature_importance_series = Series(inter_class_differences, index=X.columns.values)\n",
    "\n",
    "new_feature_importance_series[top_10_feature_indices]"
   ]
  },
  {
   "cell_type": "code",
   "execution_count": 163,
   "metadata": {},
   "outputs": [
    {
     "data": {
      "image/png": "[encoded data removed]",
      "text/plain": [
       "<matplotlib.figure.Figure at 0x123b8908>"
      ]
     },
     "metadata": {},
     "output_type": "display_data"
    }
   ],
   "source": [
    "new_feature_importance_series[top_10_feature_indices].plot(kind = 'bar')\n",
    "show()"
   ]
  },
  {
   "cell_type": "code",
   "execution_count": 71,
   "metadata": {},
   "outputs": [
    {
     "data": {
      "text/plain": [
       "1    0.517779\n",
       "0    0.482221\n",
       "Name: target_adopt, dtype: float64"
      ]
     },
     "execution_count": 71,
     "metadata": {},
     "output_type": "execute_result"
    }
   ],
   "source": [
    "#Conclusion, looks like there's a similar amount of adoptions vs non-adoptions, but most people don't adopt \n",
    "# bats, raccoon, opossums, etc.'\n",
    "df1['target_adopt'].value_counts()/len(df1)"
   ]
  },
  {
   "cell_type": "code",
   "execution_count": 84,
   "metadata": {},
   "outputs": [
    {
     "data": {
      "text/plain": [
       "Dog      32093\n",
       "Cat      28068\n",
       "Other     4390\n",
       "Bird       330\n",
       "Name: animal_type, dtype: int64"
      ]
     },
     "execution_count": 84,
     "metadata": {},
     "output_type": "execute_result"
    }
   ],
   "source": [
    "#We should focus more specifically on dogs and cats\n",
    "dcmask = (df1['animal_type'] == \"Dog\")\n",
    "dc = df1[dcmask]\n",
    "df1['animal_type'].value_counts()"
   ]
  },
  {
   "cell_type": "code",
   "execution_count": 143,
   "metadata": {},
   "outputs": [
    {
     "data": {
      "text/plain": [
       "Neutered Male    21791\n",
       "Spayed Female    20649\n",
       "Intact Female     7746\n",
       "Intact Male       7360\n",
       "Unknown           2945\n",
       "Name: sex_upon_outcome, dtype: int64"
      ]
     },
     "execution_count": 143,
     "metadata": {},
     "output_type": "execute_result"
    }
   ],
   "source": [
    "df1['sex_upon_outcome'].value_counts()"
   ]
  },
  {
   "cell_type": "code",
   "execution_count": null,
   "metadata": {
    "collapsed": true
   },
   "outputs": [],
   "source": []
  }
 ],
 "metadata": {
  "kernelspec": {
   "display_name": "Python 2",
   "language": "python",
   "name": "python2"
  },
  "language_info": {
   "codemirror_mode": {
    "name": "ipython",
    "version": 2
   },
   "file_extension": ".py",
   "mimetype": "text/x-python",
   "name": "python",
   "nbconvert_exporter": "python",
   "pygments_lexer": "ipython2",
   "version": "2.7.14"
  }
 },
 "nbformat": 4,
 "nbformat_minor": 2
}

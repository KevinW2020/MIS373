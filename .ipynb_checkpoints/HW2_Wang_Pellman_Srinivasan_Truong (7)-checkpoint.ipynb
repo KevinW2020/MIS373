{
 "cells": [
  {
   "cell_type": "markdown",
   "metadata": {},
   "source": [
    "### HW2: Kevin Wang, Maddie Pellman, Varun Srinivasan, Tiffany Truong\n",
    "Analyze restaurant inspections in NYC, starting November 1, 2014 and ending January 31, 2015.\n",
    "### Setup\n",
    "    1. Import pandas as pd\n",
    "    2. Import matplotlib for plotting\n",
    "    3. Read NYC_Restaurants.csv"
   ]
  },
  {
   "cell_type": "code",
   "execution_count": 11,
   "metadata": {
    "collapsed": true
   },
   "outputs": [],
   "source": [
    "import pandas as pd\n",
    "from pandas import Series, DataFrame\n",
    "%matplotlib inline\n",
    "import matplotlib\n",
    "\n",
    "#unicode tells Pandas to treat all columns as strings (instead of integers/dates/etc.)\n",
    "df = pd.read_csv('NYC_Restaurants.csv', dtype=unicode)"
   ]
  },
  {
   "cell_type": "markdown",
   "metadata": {},
   "source": [
    "Populating namespace from numpy and matplotlib"
   ]
  },
  {
   "cell_type": "markdown",
   "metadata": {},
   "source": [
    "### Question 1: Create a unique name for each restaurant\n",
    "Create a new column called 'RESTAURANT' and add values from DBA, BUILDING, STREET, and ZIP-CODE columns. Find the unique names for each restaurant and proceed to print out first 10 values of RESTAURANT column."
   ]
  },
  {
   "cell_type": "code",
   "execution_count": 12,
   "metadata": {},
   "outputs": [
    {
     "name": "stdout",
     "output_type": "stream",
     "text": [
      "[\"WENDY'S 469 FLATBUSH AVENUE 11225\"\n",
      " 'TOV KOSHER KITCHEN 97-22 63 ROAD 11374'\n",
      " 'BRUNOS ON THE BOULEVARD 8825 ASTORIA BOULEVARD 11369'\n",
      " 'MAY MAY KITCHEN 1269 SUTTER AVENUE 11208'\n",
      " 'SEUDA FOODS 705 KINGS HIGHWAY 11223'\n",
      " 'CARVEL ICE CREAM 203 CHURCH AVENUE 11218'\n",
      " 'NORDIC DELICACIES 6909 3 AVENUE 11209'\n",
      " 'GLORIOUS FOOD 522 EAST   74 STREET 10021'\n",
      " 'THE MOVABLE FEAST 284 PROSPECT PARK WEST 11215'\n",
      " \"BULLY'S DELI 759 BROADWAY 10003\"]\n"
     ]
    }
   ],
   "source": [
    "df['RESTAURANT'] = df['DBA'] + \" \" + df['BUILDING'] + \" \" + df[\"STREET\"] + \" \" + df['ZIPCODE']\n",
    "\n",
    "restaurants = df['RESTAURANT'].unique() #create unique name for each restaurant\n",
    "print restaurants[0:10]"
   ]
  },
  {
   "cell_type": "markdown",
   "metadata": {},
   "source": [
    "### Question 2: How many restaurants are included in the data?\n",
    "Print out the count of unique locations in RESTAURANT column by using len function."
   ]
  },
  {
   "cell_type": "code",
   "execution_count": 13,
   "metadata": {},
   "outputs": [
    {
     "name": "stdout",
     "output_type": "stream",
     "text": [
      "There are 10114 restaurants included in the data\n"
     ]
    }
   ],
   "source": [
    "print \"There are \" + str(len(restaurants)) + \" restaurants included in the data\""
   ]
  },
  {
   "cell_type": "markdown",
   "metadata": {},
   "source": [
    "### Question 3: How many chains are there?\n",
    "A chain is the same restaurant name occurring in at least two different addresses (building, street, zipcode). \n",
    "\n",
    "    1. Create a new column to df called ADDRESS that will store each row's address\n",
    "    2. Create a new df unique_addresses with DBA, ADDRESS, and BORO. Apply  drop_duplicates() so that there will only be one row for each address\n",
    "    3. Create a mask that determines whether a restaurant is a standalone or chain (duplicated)\n",
    "    4. Create series that keeps one restaurant name per chain and drops standalones.\n",
    "    5. Print out the length of the unique chains (aka amount of chains).\n"
   ]
  },
  {
   "cell_type": "code",
   "execution_count": 14,
   "metadata": {},
   "outputs": [
    {
     "name": "stdout",
     "output_type": "stream",
     "text": [
      "There are 368 chains\n"
     ]
    }
   ],
   "source": [
    "df['ADDRESS'] = df['BUILDING'] +  \" \" + df['STREET'] +  \" \" + df['ZIPCODE']\n",
    "unique_addresses = df[['DBA', 'ADDRESS', 'BORO']].drop_duplicates()\n",
    "chains_mask = unique_addresses['DBA'].duplicated()\n",
    "chain_series = unique_addresses['DBA'][chains_mask].unique()\n",
    "print \"There are \" + str(len(chain_series)) + \" chains\""
   ]
  },
  {
   "cell_type": "markdown",
   "metadata": {},
   "source": [
    "### Question 4: Plot a bar graph of the 20 most popular chains\n",
    "    1. Get chain location addresses from unique_addresses that are in chain_series\n",
    "    2. Use value_counts() to find count of each chain\n",
    "    3. Plot 20 most popular chains by looking at counts"
   ]
  },
  {
   "cell_type": "code",
   "execution_count": 15,
   "metadata": {},
   "outputs": [
    {
     "data": {
      "text/plain": [
       "<matplotlib.axes._subplots.AxesSubplot at 0x108fcf110>"
      ]
     },
     "execution_count": 15,
     "metadata": {},
     "output_type": "execute_result"
    },
    {
     "data": {
      "image/png": "[encoded data removed]",
      "text/plain": [
       "<matplotlib.figure.Figure at 0x108e768d0>"
      ]
     },
     "metadata": {},
     "output_type": "display_data"
    }
   ],
   "source": [
    "chain_addresses = unique_addresses[unique_addresses['DBA'].isin(chain_series)].sort_values('DBA')\n",
    "#print len(chain_addresses)\n",
    "chain_count = chain_addresses['DBA'].value_counts()\n",
    "chain_count[:20].plot(kind='bar')"
   ]
  },
  {
   "cell_type": "markdown",
   "metadata": {},
   "source": [
    "### Question 5: What fraction of all restaurants are chains?\n",
    "Divide the length of chain_addresses over length of unique_addresses"
   ]
  },
  {
   "cell_type": "code",
   "execution_count": 33,
   "metadata": {},
   "outputs": [
    {
     "name": "stdout",
     "output_type": "stream",
     "text": [
      "16.4722167293% of all restaurants are chains\n"
     ]
    }
   ],
   "source": [
    "chain_fraction = (float(len(chain_addresses['DBA'])) / len(unique_addresses['DBA']))\n",
    "chain_percentage = chain_fraction*100\n",
    "print str(chain_percentage) + \"% of all restaurants are chains\""
   ]
  },
  {
   "cell_type": "markdown",
   "metadata": {},
   "source": [
    "### Question 6: Plot the number of non-chain restaurants in each boro"
   ]
  },
  {
   "cell_type": "markdown",
   "metadata": {},
   "source": [
    "1. Find the restaurant count \n",
    "2. Create a mask where restaurant count = 1\n",
    "3. Get new df where restaurant count = 1 (apply mask) \n",
    "4. Do value_counts on new frame, based on Boro, and plot "
   ]
  },
  {
   "cell_type": "code",
   "execution_count": 51,
   "metadata": {},
   "outputs": [
    {
     "data": {
      "text/plain": [
       "<matplotlib.axes._subplots.AxesSubplot at 0x107bff850>"
      ]
     },
     "execution_count": 51,
     "metadata": {},
     "output_type": "execute_result"
    },
    {
     "data": {
      "image/png": "[encoded data removed]",
      "text/plain": [
       "<matplotlib.figure.Figure at 0x109680790>"
      ]
     },
     "metadata": {},
     "output_type": "display_data"
    }
   ],
   "source": [
    "restaurant_count = unique_addresses['DBA'].value_counts()\n",
    "mask = (restaurant_count == 1)\n",
    "non_chains = restaurant_count[mask]\n",
    "non_chain_addresses = unique_addresses[unique_addresses['DBA'].isin(non_chains.index)].sort_values('DBA')\n",
    "non_chain_addresses['BORO'].value_counts().plot(kind='bar')\n",
    "#should we take out missing? "
   ]
  },
  {
   "cell_type": "markdown",
   "metadata": {},
   "source": [
    "### Question 7: Plot the fraction of non-chain restaurants in each boro"
   ]
  },
  {
   "cell_type": "code",
   "execution_count": null,
   "metadata": {
    "collapsed": true
   },
   "outputs": [],
   "source": []
  },
  {
   "cell_type": "markdown",
   "metadata": {},
   "source": [
    "### Question 8: Plot the popularity of cuisines"
   ]
  },
  {
   "cell_type": "code",
   "execution_count": null,
   "metadata": {
    "collapsed": true
   },
   "outputs": [],
   "source": []
  },
  {
   "cell_type": "markdown",
   "metadata": {},
   "source": [
    "### Question 9: Plot the cuisines among restaurants which do not get cited for violations"
   ]
  },
  {
   "cell_type": "code",
   "execution_count": null,
   "metadata": {
    "collapsed": true
   },
   "outputs": [],
   "source": []
  },
  {
   "cell_type": "markdown",
   "metadata": {},
   "source": [
    "### Question 10: What cuisines tend to be the \"cleanest\"?"
   ]
  },
  {
   "cell_type": "code",
   "execution_count": null,
   "metadata": {
    "collapsed": true
   },
   "outputs": [],
   "source": []
  },
  {
   "cell_type": "markdown",
   "metadata": {},
   "source": [
    "### Question 11: What are the most common violations in each borough?"
   ]
  },
  {
   "cell_type": "markdown",
   "metadata": {},
   "source": [
    "### Question 12: What are the most common violations per borough, after normalizing for the relative abundance of each violation?"
   ]
  }
 ],
 "metadata": {
  "kernelspec": {
   "display_name": "Python 2",
   "language": "python",
   "name": "python2"
  },
  "language_info": {
   "codemirror_mode": {
    "name": "ipython",
    "version": 2
   },
   "file_extension": ".py",
   "mimetype": "text/x-python",
   "name": "python",
   "nbconvert_exporter": "python",
   "pygments_lexer": "ipython2",
   "version": "2.7.14"
  }
 },
 "nbformat": 4,
 "nbformat_minor": 2
}
